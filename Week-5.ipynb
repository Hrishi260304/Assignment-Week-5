{
 "cells": [
  {
   "cell_type": "markdown",
   "id": "840df17f-8a3a-429b-967f-2a937382e46b",
   "metadata": {},
   "source": [
    "# Data Preprocessing and feature engineering"
   ]
  },
  {
   "cell_type": "code",
   "execution_count": null,
   "id": "fe4f495e-1bbc-4d8e-a8d0-4d1777a2da69",
   "metadata": {},
   "outputs": [],
   "source": [
    "# 📌 Step 1: Import libraries\n",
    "import pandas as pd\n",
    "from sklearn.model_selection import train_test_split\n",
    "from sklearn.preprocessing import LabelEncoder, StandardScaler\n",
    "from sklearn.impute import SimpleImputer\n",
    "\n",
    "\n",
    "df = pd.read_csv('house_data.csv')  # Replace with your actual file\n",
    "df.head()\n"
   ]
  },
  {
   "cell_type": "code",
   "execution_count": null,
   "id": "2635da69-0f45-4e0c-ba61-ae352213943a",
   "metadata": {},
   "outputs": [],
   "source": [
    "\n",
    "df.isnull().sum().sort_values(ascending=False).head(10)\n"
   ]
  },
  {
   "cell_type": "code",
   "execution_count": null,
   "id": "1c847548-c27a-4cfa-96fa-b577b7d85b35",
   "metadata": {},
   "outputs": [],
   "source": [
    "\n",
    "num_cols = df.select_dtypes(include=['int64', 'float64']).columns\n",
    "cat_cols = df.select_dtypes(include=['object']).columns\n",
    "\n",
    "imputer_num = SimpleImputer(strategy='mean')\n",
    "df[num_cols] = imputer_num.fit_transform(df[num_cols])\n",
    "\n",
    "imputer_cat = SimpleImputer(strategy='most_frequent')\n",
    "df[cat_cols] = imputer_cat.fit_transform(df[cat_cols])\n"
   ]
  },
  {
   "cell_type": "code",
   "execution_count": null,
   "id": "70f872c0-f2f0-4d31-b4dc-747135793c29",
   "metadata": {},
   "outputs": [],
   "source": [
    "\n",
    "le = LabelEncoder()\n",
    "for col in cat_cols:\n",
    "    df[col] = le.fit_transform(df[col])\n"
   ]
  },
  {
   "cell_type": "code",
   "execution_count": null,
   "id": "8577e08c-a8cc-4536-b166-e8005fa8959a",
   "metadata": {},
   "outputs": [],
   "source": [
    "\n",
    "df['HouseAge'] = 2025 - df['YearBuilt']\n",
    "\n",
    "df['TotalSF'] = df['TotalBsmtSF'] + df['GrLivArea']\n",
    "\n",
    "df['PricePerSF'] = df['SalePrice'] / df['TotalSF']\n"
   ]
  },
  {
   "cell_type": "code",
   "execution_count": null,
   "id": "0d5e5ca7-da86-4a7e-a828-a418f221c0de",
   "metadata": {},
   "outputs": [],
   "source": [
    "\n",
    "df.drop(['Id', 'YearBuilt', 'GrLivArea', 'TotalBsmtSF'], axis=1, inplace=True, errors='ignore')\n",
    "df.head()\n"
   ]
  },
  {
   "cell_type": "code",
   "execution_count": null,
   "id": "999be3af-8fe5-497b-9861-e2a30ba7802d",
   "metadata": {},
   "outputs": [],
   "source": [
    "\n",
    "X = df.drop('SalePrice', axis=1)\n",
    "y = df['SalePrice']\n"
   ]
  },
  {
   "cell_type": "code",
   "execution_count": null,
   "id": "343b8b27-7b88-401b-9cc4-e1f3fa0ae4de",
   "metadata": {},
   "outputs": [],
   "source": [
    "\n",
    "scaler = StandardScaler()\n",
    "X_scaled = scaler.fit_transform(X)\n"
   ]
  },
  {
   "cell_type": "code",
   "execution_count": null,
   "id": "bed56339-96c1-4cdd-a1a7-a5467722fc1a",
   "metadata": {},
   "outputs": [],
   "source": [
    "\n",
    "X_train, X_test, y_train, y_test = train_test_split(X_scaled, y, test_size=0.2, random_state=42)\n",
    "\n",
    "print(\"X_train shape:\", X_train.shape)\n",
    "print(\"y_train shape:\", y_train.shape)\n"
   ]
  },
  {
   "cell_type": "code",
   "execution_count": null,
   "id": "6443c1f2-77e4-4182-99c5-0addcf4c7c57",
   "metadata": {},
   "outputs": [],
   "source": []
  },
  {
   "cell_type": "code",
   "execution_count": null,
   "id": "9b1029f9-5ae2-4d39-86e9-5f42280c09d1",
   "metadata": {},
   "outputs": [],
   "source": []
  },
  {
   "cell_type": "code",
   "execution_count": null,
   "id": "b6417a73-eafb-432e-8e21-2aac66f6785c",
   "metadata": {},
   "outputs": [],
   "source": []
  },
  {
   "cell_type": "code",
   "execution_count": null,
   "id": "4c6eb183-6f16-424c-9cdb-7e4d8bbbeee0",
   "metadata": {},
   "outputs": [],
   "source": []
  },
  {
   "cell_type": "code",
   "execution_count": null,
   "id": "23d523de-e7b0-466d-a344-08be4119a899",
   "metadata": {},
   "outputs": [],
   "source": []
  },
  {
   "cell_type": "code",
   "execution_count": null,
   "id": "902fa16d-8006-4e0c-b5d4-c1369df523cb",
   "metadata": {},
   "outputs": [],
   "source": []
  }
 ],
 "metadata": {
  "kernelspec": {
   "display_name": "Python 3 (ipykernel)",
   "language": "python",
   "name": "python3"
  },
  "language_info": {
   "codemirror_mode": {
    "name": "ipython",
    "version": 3
   },
   "file_extension": ".py",
   "mimetype": "text/x-python",
   "name": "python",
   "nbconvert_exporter": "python",
   "pygments_lexer": "ipython3",
   "version": "3.12.4"
  }
 },
 "nbformat": 4,
 "nbformat_minor": 5
}
